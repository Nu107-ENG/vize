﻿





{
 "cells": [
  {
   "cell_type": "code",
   "execution_count": 3,
   "id": "64dab1bf",
   "metadata": {},
   "outputs": [
    {
     "ename": "SyntaxError",
     "evalue": "invalid non-printable character U+00A0 (2449095985.py, line 47)",
     "output_type": "error",
     "traceback": [
      "\u001b[1;36m  File \u001b[1;32m\"C:\\Users\\Nurgül Erol\\AppData\\Local\\Temp\\ipykernel_9296\\2449095985.py\"\u001b[1;36m, line \u001b[1;32m47\u001b[0m\n\u001b[1;33m    hız -= 5\u001b[0m\n\u001b[1;37m    ^\u001b[0m\n\u001b[1;31mSyntaxError\u001b[0m\u001b[1;31m:\u001b[0m invalid non-printable character U+00A0\n"
     ]
    }
   ],
   "source": [
    "import math\n",
    "import random\n",
    "\n",
    "# Topun konumu\n",
    "top_konum = [0, 39]\n",
    "\n",
    "# Hedef\n",
    "uzaklık_mesafesi = 20000 + 200*random.randint(-10, 10)\n",
    "genişlik_başlangıç = uzaklık_mesafesi\n",
    "genişlik_bitiş = uzaklık_mesafesi + 1000 + 100*random.randint(-2, 2)\n",
    "hedef_konum = [random.uniform(genişlik_başlangıç, genişlik_bitiş), random.uniform(0, 100)]\n",
    "\n",
    "# Topun açısı ve hızı\n",
    "açı = math.radians(30)\n",
    "başlangıç_hızı = (330 + 1800) / 2\n",
    "hız = başlangıç_hızı\n",
    "\n",
    "# Yerçekimi ivmesi\n",
    "g = 9.81\n",
    "\n",
    "# Hedefi vurma işlemi\n",
    "deneme = 0\n",
    "while True:\n",
    "    deneme += 1\n",
    "    \n",
    "    t = (hız * math.sin(açı) + math.sqrt((hız * math.sin(açı)) ** 2 + 2 * g * top_konum[1])) / g\n",
    "    \n",
    "    # Topun hareketi\n",
    "    x = top_konum[0] + hız * math.cos(açı) * t\n",
    "    y = top_konum[1] + hız * math.sin(açı) * t - (9.81/2) * t**2\n",
    "    \n",
    "    # Vuruş koordinatı\n",
    "    vuruş_noktası = [x, y]\n",
    "    \n",
    "    # Hedef vuruldu mu?\n",
    "    if abs(vuruş_noktası[1] - hedef_konum[1]) < 5:\n",
    "        print(f\"Hedef vuruldu! {deneme}. denemede hedef vuruldu, vuruş koordinatı: {vuruş_noktası}, hedefe vuruşta kullanılan hız: {hız:.2f} metre/saniye\")\n",
    "        break\n",
    "    # Top hedefin önünden geçti mi?\n",
    "    elif y < hedef_konum[1]:\n",
    "        print(f\"Top hedefin önünden geçti! {deneme}. denemede top hedefin önünden geçti, vuruş koordinatı: {vuruş_noktası}\")\n",
    "        hız += 5\n",
    "   \n",
    "    # Top hedefin arkasından geçti mi?\n",
    "    elif y > hedef_konum[1]:\n",
    "        print(f\"Top hedefin üstüne düştü! {deneme}. denemede top hedefin üstüne düştü, vuruş koordinatı: {vuruş_noktası}\")\n",
    "        hız -= 5"
   ]
  }
 ],
 "metadata": {
  "kernelspec": {
   "display_name": "Python 3 (ipykernel)",
   "language": "python",
   "name": "python3"
  },
  "language_info": {
   "codemirror_mode": {
    "name": "ipython",
    "version": 3
   },
   "file_extension": ".py",
   "mimetype": "text/x-python",
   "name": "python",
   "nbconvert_exporter": "python",
   "pygments_lexer": "ipython3",
   "version": "3.9.13"
  }
 },
 "nbformat": 4,
 "nbformat_minor": 5
}

